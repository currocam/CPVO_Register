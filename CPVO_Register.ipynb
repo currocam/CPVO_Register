{
 "cells": [
  {
   "cell_type": "markdown",
   "metadata": {},
   "source": [
    "# CPVO Register\n",
    "El objetivo de este proyecto es el de buscar a través del buscador de la CVPO (Community Plant Variety Office) encargada de administrar a nivel europeo la propiedad intelectual de las distintas variedades de plantas. \n",
    "\n",
    "https://public.plantvarieties.eu/publicSearch\n",
    "\n"
   ]
  },
  {
   "cell_type": "code",
   "execution_count": 25,
   "metadata": {},
   "outputs": [],
   "source": [
    "from selenium import webdriver\n",
    "import chromedriver_binary\n",
    "from time import strftime\n",
    "import time\n",
    "import requests\n",
    "from bs4 import BeautifulSoup\n",
    "from selenium.webdriver.common.by import By\n",
    "import json\n"
   ]
  },
  {
   "cell_type": "markdown",
   "metadata": {},
   "source": [
    "En primer lugar, descargaremos en un archivo la ficha de cada una de las variedades de la especie de interés. "
   ]
  },
  {
   "cell_type": "code",
   "execution_count": 27,
   "metadata": {},
   "outputs": [],
   "source": [
    "def obtenerURL_update(especie):\n",
    "    \"\"\"Elabora la url de la búsqueda adecuada en la web para descargar todas las variedades registradas hasta la fecha\n",
    "\n",
    "        Parametros:\n",
    "        especie (str): Nombre científico de la planta de interés\n",
    "    \n",
    "        Returns:\n",
    "        url (str):url resultante sin el índice de página\n",
    "    \"\"\"\n",
    "    str_specie=\"&speciesName=\"+especie.replace(\" \", \"%20\")\n",
    "    url=\"https://cpvonode.plantvarieties.eu/api/v2/publicSearch?\"+str_specie+\"&speciesNameFilter=contains&pageSize=100&pageNumber=\"\n",
    "    return url\n",
    "\n",
    "def descargarJSON(url, num_pag=1):\n",
    "    \"\"\"Descarga el contenido del archivo JSON correspondiente y lo devuelve en forma de diccionario\n",
    "        Parametros:\n",
    "        url(str): URL de la búsqueda en cuestión.\n",
    "        num_page(int): Número de la página que se quiere descargar. Por defecto es la 1º página. \n",
    "        \n",
    "        Returns:\n",
    "        data(dict): Diccionario que contiene la información de la consulta.\n",
    "    \"\"\"\n",
    "    result=[]\n",
    "    respuesta = requests.get(str(url+str(num_pag)))\n",
    "    data=respuesta.json()\n",
    "    return data\n",
    "    \n",
    "def archivoUpdate(url, archivo=\"datos.json\"):\n",
    "    \"\"\"Itera por todas las páginas de la base para descargar todos los datos y crear un archivo que los contenga todos\n",
    "        \n",
    "        Parametros:\n",
    "        url(str): URL de la búsqueda en cuestión.\n",
    "        archivo(str): Dirección del archivo que se quiere generar.  \n",
    "        \n",
    "    \"\"\"\n",
    "    \n",
    "    data=descargarJSON(url) #descargamos la información de la 1º página\n",
    "    \n",
    "    #Determinamos cuantas páginas debemos iterar\n",
    "    num_entradas=data['data']['count']\n",
    "    iterador=int(num_entradas / 100) + (num_entradas % 100 > 0)\n",
    "    \n",
    "    result=[]\n",
    "    i=2\n",
    "    result.append(data['data']['registers'])\n",
    "    print(\"Se ha registrado con éxito la página nº 1 de \"+str(iterador))\n",
    "    while i <= iterador:\n",
    "        data=descargarJSON(url, i)\n",
    "        result.append(data['data']['registers'])\n",
    "        print(\"Se ha registrado con éxito la página nº: \"+str(i)+\" de \"+str(iterador))\n",
    "        i+=1\n",
    "        time.sleep(1)\n",
    "    with open(archivo, 'w') as json_file:\n",
    "        json.dump(result, json_file)\n",
    "    print(\"\\n Su archivo ya se encuentra actualizado\")"
   ]
  },
  {
   "cell_type": "markdown",
   "metadata": {},
   "source": [
    "Poniendo de ejemplo el aceite de colza: \n"
   ]
  },
  {
   "cell_type": "code",
   "execution_count": 28,
   "metadata": {},
   "outputs": [
    {
     "name": "stdout",
     "output_type": "stream",
     "text": [
      "Se ha registrado con éxito la página nº 1 de 19\n",
      "Se ha registrado con éxito la página nº: 2 de 19\n",
      "Se ha registrado con éxito la página nº: 3 de 19\n",
      "Se ha registrado con éxito la página nº: 4 de 19\n",
      "Se ha registrado con éxito la página nº: 5 de 19\n",
      "Se ha registrado con éxito la página nº: 6 de 19\n",
      "Se ha registrado con éxito la página nº: 7 de 19\n",
      "Se ha registrado con éxito la página nº: 8 de 19\n",
      "Se ha registrado con éxito la página nº: 9 de 19\n",
      "Se ha registrado con éxito la página nº: 10 de 19\n",
      "Se ha registrado con éxito la página nº: 11 de 19\n",
      "Se ha registrado con éxito la página nº: 12 de 19\n",
      "Se ha registrado con éxito la página nº: 13 de 19\n",
      "Se ha registrado con éxito la página nº: 14 de 19\n",
      "Se ha registrado con éxito la página nº: 15 de 19\n",
      "Se ha registrado con éxito la página nº: 16 de 19\n",
      "Se ha registrado con éxito la página nº: 17 de 19\n",
      "Se ha registrado con éxito la página nº: 18 de 19\n",
      "Se ha registrado con éxito la página nº: 19 de 19\n",
      "\n",
      " Su archivo ya se encuentra actualizado\n"
     ]
    }
   ],
   "source": [
    "nombre_cientifico=\"Brassica napus\"\n",
    "url=obtenerURL_update(nombre_cientifico)\n",
    "archivoUpdate(url, nombre_cientifico+ \".json\")"
   ]
  },
  {
   "cell_type": "markdown",
   "metadata": {},
   "source": [
    "A continuación, definiremos una serie de funciones que nos permitan comprobar si ha habido alguna actualización, en cuyo caso generaremos una alerta"
   ]
  },
  {
   "cell_type": "code",
   "execution_count": 29,
   "metadata": {},
   "outputs": [],
   "source": [
    "def actualizarAviso(url, archivo=\"datos.json\"):\n",
    "    \"\"\"Itera por todas las páginas de la base para descargar todos los datos y crear un archivo que los contenga todos\n",
    "        \n",
    "        Parametros:\n",
    "        url(str): URL de la búsqueda en cuestión.\n",
    "        archivo(str): Dirección del archivo en que se guardan los datos.  \n",
    "        \n",
    "        Return:\n",
    "        dif(int): Devuelve el número de entradas desactualizadas. En caso de dif=0, el archivo está actualizado. \n",
    "    \"\"\"\n",
    "    # Contamos el número de de entradas\n",
    "    with open(archivo) as json_file:\n",
    "        data_old = json.load(json_file)\n",
    "    cont=0    \n",
    "    for i in data_old:\n",
    "        cont+=len(i)\n",
    "    # Determinamos el número de entradas registradas en la web\n",
    "    data_new=descargarJSON(url)\n",
    "    dif=0\n",
    "    if cont== data_new['data']['count']:\n",
    "        print(\"El archivo sigue actualizado.\")\n",
    "    else:\n",
    "        dif=data_new['data']['count']-cont\n",
    "        print(\"El archivo no está actualizado. Hay un total de {0} entradas nuevas\".format(dif))\n",
    "    return dif\n",
    "\n",
    "\n",
    "def imprimirAviso(url, archivo=\"datos.json\"):\n",
    "    \"\"\" Imprime en pantalla una serie de información pertinente, descarga el nuevo fichero actualizado e imprime por pantalla las entradas que se han añadido. \n",
    "        Parametros:\n",
    "        url(str): URL de la búsqueda en cuestión.\n",
    "        archivo(str): Dirección del archivo en que se guardan los datos.  \n",
    "        \n",
    "    \"\"\"\n",
    "    dif=actualizarAviso(url, archivo)\n",
    "    if dif != 0:\n",
    "        print(\"\\n Procedemos a descargar los nuevos datos\")\n",
    "        archivoUpdate(url, archivo)\n",
    "        with open(nombre_cientifico+ \".json\") as json_file:\n",
    "            data_actualizado = json.load(json_file)\n",
    "        diccionario=data_actualizado[-1][-dif:]\n",
    "        for i in diccionario:\n",
    "            print(\"\\n Entrada nueva:\\n\")\n",
    "            print(\"Denominación: {0}\\n Nombre de especie: {1}\\n Día de solicitud: {2}\".format(i['denomination'], i['speciesName'],i['applicationDate']))    "
   ]
  },
  {
   "cell_type": "markdown",
   "metadata": {},
   "source": [
    "Comprobamos el funcionamiento. El archivo está actualizado ahora mismo, puesto que nos lo acabamos de descargar."
   ]
  },
  {
   "cell_type": "code",
   "execution_count": 30,
   "metadata": {},
   "outputs": [
    {
     "name": "stdout",
     "output_type": "stream",
     "text": [
      "El archivo sigue actualizado.\n"
     ]
    },
    {
     "data": {
      "text/plain": [
       "0"
      ]
     },
     "execution_count": 30,
     "metadata": {},
     "output_type": "execute_result"
    }
   ],
   "source": [
    "actualizarAviso(url, nombre_cientifico+ \".json\")\n",
    "\n"
   ]
  },
  {
   "cell_type": "markdown",
   "metadata": {},
   "source": [
    "Vamos a retirar manualmente algunas entradas para similar una desactualización"
   ]
  },
  {
   "cell_type": "code",
   "execution_count": 31,
   "metadata": {},
   "outputs": [],
   "source": [
    "with open(nombre_cientifico+ \".json\") as json_file:\n",
    "    data_desactualizado = json.load(json_file)\n",
    "\n",
    "data_desactualizado[-1].pop()\n",
    "data_desactualizado[-1].pop()\n",
    "data_desactualizado[-1].pop()\n",
    "data_desactualizado[-1].pop()\n",
    "\n",
    "with open(nombre_cientifico+ \".json\", 'w') as json_file:\n",
    "    json.dump(data_desactualizado, json_file)\n"
   ]
  },
  {
   "cell_type": "code",
   "execution_count": 32,
   "metadata": {},
   "outputs": [
    {
     "name": "stdout",
     "output_type": "stream",
     "text": [
      "El archivo no está actualizado. Hay un total de 4 entradas nuevas\n",
      "\n",
      " Procedemos a descargar los nuevos datos\n",
      "Se ha registrado con éxito la página nº 1 de 19\n",
      "Se ha registrado con éxito la página nº: 2 de 19\n",
      "Se ha registrado con éxito la página nº: 3 de 19\n",
      "Se ha registrado con éxito la página nº: 4 de 19\n",
      "Se ha registrado con éxito la página nº: 5 de 19\n",
      "Se ha registrado con éxito la página nº: 6 de 19\n",
      "Se ha registrado con éxito la página nº: 7 de 19\n",
      "Se ha registrado con éxito la página nº: 8 de 19\n",
      "Se ha registrado con éxito la página nº: 9 de 19\n",
      "Se ha registrado con éxito la página nº: 10 de 19\n",
      "Se ha registrado con éxito la página nº: 11 de 19\n",
      "Se ha registrado con éxito la página nº: 12 de 19\n",
      "Se ha registrado con éxito la página nº: 13 de 19\n",
      "Se ha registrado con éxito la página nº: 14 de 19\n",
      "Se ha registrado con éxito la página nº: 15 de 19\n",
      "Se ha registrado con éxito la página nº: 16 de 19\n",
      "Se ha registrado con éxito la página nº: 17 de 19\n",
      "Se ha registrado con éxito la página nº: 18 de 19\n",
      "Se ha registrado con éxito la página nº: 19 de 19\n",
      "\n",
      " Su archivo ya se encuentra actualizado\n",
      "\n",
      " Entrada nueva:\n",
      "\n",
      "Denominación: KM234W11\n",
      " Nombre de especie: Brassica napus L. emend. Metzg.\n",
      " Día de solicitud: 2020-08-25\n",
      "\n",
      " Entrada nueva:\n",
      "\n",
      "Denominación: KM249W11\n",
      " Nombre de especie: Brassica napus L. emend. Metzg.\n",
      " Día de solicitud: 2020-08-25\n",
      "\n",
      " Entrada nueva:\n",
      "\n",
      "Denominación: KG306W11\n",
      " Nombre de especie: Brassica napus L. emend. Metzg.\n",
      " Día de solicitud: 2020-08-25\n",
      "\n",
      " Entrada nueva:\n",
      "\n",
      "Denominación: MSL410C11\n",
      " Nombre de especie: Brassica napus L. emend. Metzg.\n",
      " Día de solicitud: 2020-08-26\n"
     ]
    }
   ],
   "source": [
    "imprimirAviso(url, nombre_cientifico+ \".json\")"
   ]
  }
 ],
 "metadata": {
  "kernelspec": {
   "display_name": "Python 3",
   "language": "python",
   "name": "python3"
  },
  "language_info": {
   "codemirror_mode": {
    "name": "ipython",
    "version": 3
   },
   "file_extension": ".py",
   "mimetype": "text/x-python",
   "name": "python",
   "nbconvert_exporter": "python",
   "pygments_lexer": "ipython3",
   "version": "3.7.6"
  }
 },
 "nbformat": 4,
 "nbformat_minor": 4
}
